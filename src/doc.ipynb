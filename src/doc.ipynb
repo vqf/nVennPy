{
 "cells": [
  {
   "cell_type": "code",
   "execution_count": 1,
   "id": "63602108",
   "metadata": {
    "scrolled": true
   },
   "outputs": [
    {
     "name": "stdout",
     "output_type": "stream",
     "text": [
      "\u001b[1;31merror\u001b[0m: \u001b[1mexternally-managed-environment\u001b[0m\r\n",
      "\r\n",
      "\u001b[31m×\u001b[0m This environment is externally managed\r\n",
      "\u001b[31m╰─>\u001b[0m To install Python packages system-wide, try apt install\r\n",
      "\u001b[31m   \u001b[0m python3-xyz, where xyz is the package you are trying to\r\n",
      "\u001b[31m   \u001b[0m install.\r\n",
      "\u001b[31m   \u001b[0m \r\n",
      "\u001b[31m   \u001b[0m If you wish to install a non-Debian-packaged Python package,\r\n",
      "\u001b[31m   \u001b[0m create a virtual environment using python3 -m venv path/to/venv.\r\n",
      "\u001b[31m   \u001b[0m Then use path/to/venv/bin/python and path/to/venv/bin/pip. Make\r\n",
      "\u001b[31m   \u001b[0m sure you have python3-full installed.\r\n",
      "\u001b[31m   \u001b[0m \r\n",
      "\u001b[31m   \u001b[0m If you wish to install a non-Debian packaged Python application,\r\n",
      "\u001b[31m   \u001b[0m it may be easiest to use pipx install xyz, which will manage a\r\n",
      "\u001b[31m   \u001b[0m virtual environment for you. Make sure you have pipx installed.\r\n",
      "\u001b[31m   \u001b[0m \r\n",
      "\u001b[31m   \u001b[0m See /usr/share/doc/python3.13/README.venv for more information.\r\n",
      "\r\n",
      "\u001b[1;35mnote\u001b[0m: If you believe this is a mistake, please contact your Python installation or OS distribution provider. You can override this, at the risk of breaking your Python installation or OS, by passing --break-system-packages.\r\n",
      "\u001b[1;36mhint\u001b[0m: See PEP 668 for the detailed specification.\r\n"
     ]
    },
    {
     "ename": "ModuleNotFoundError",
     "evalue": "No module named 'nvenn2'",
     "output_type": "error",
     "traceback": [
      "\u001b[0;31m---------------------------------------------------------------------------\u001b[0m",
      "\u001b[0;31mModuleNotFoundError\u001b[0m                       Traceback (most recent call last)",
      "Cell \u001b[0;32mIn[1], line 4\u001b[0m\n\u001b[1;32m      2\u001b[0m \u001b[38;5;28;01mimport\u001b[39;00m \u001b[38;5;21;01msys\u001b[39;00m\n\u001b[1;32m      3\u001b[0m get_ipython()\u001b[38;5;241m.\u001b[39msystem(\u001b[38;5;124m'\u001b[39m\u001b[38;5;132;01m{sys.executable}\u001b[39;00m\u001b[38;5;124m -m pip install -i https://test.pypi.org/simple nvenn2\u001b[39m\u001b[38;5;124m'\u001b[39m)\n\u001b[0;32m----> 4\u001b[0m \u001b[38;5;28;01mimport\u001b[39;00m \u001b[38;5;21;01mnvenn2\u001b[39;00m\n\u001b[1;32m      6\u001b[0m \u001b[38;5;28;01mfrom\u001b[39;00m \u001b[38;5;21;01mIPython\u001b[39;00m\u001b[38;5;21;01m.\u001b[39;00m\u001b[38;5;21;01mdisplay\u001b[39;00m \u001b[38;5;28;01mimport\u001b[39;00m SVG, display\n\u001b[1;32m      7\u001b[0m n \u001b[38;5;241m=\u001b[39m nvenn2\u001b[38;5;241m.\u001b[39mdiagram(\u001b[38;5;124m\"\u001b[39m\u001b[38;5;124mSet1 Set2 Set3\u001b[39m\u001b[38;5;130;01m\\n\u001b[39;00m\u001b[38;5;124ma a b\u001b[39m\u001b[38;5;130;01m\\n\u001b[39;00m\u001b[38;5;124mb q d\u001b[39m\u001b[38;5;130;01m\\n\u001b[39;00m\u001b[38;5;124mc  e\u001b[39m\u001b[38;5;124m\"\u001b[39m)\n",
      "\u001b[0;31mModuleNotFoundError\u001b[0m: No module named 'nvenn2'"
     ]
    }
   ],
   "source": [
    "import nvenn2\n",
    "\n",
    "from IPython.display import SVG, display\n",
    "n = nvenn2.diagram(\"Set1 Set2 Set3\\na a b\\nb q d\\nc  e\")\n",
    "n.simulate()\n",
    "display(SVG(n.tosvg()))"
   ]
  },
  {
   "cell_type": "code",
   "execution_count": null,
   "id": "9012c188",
   "metadata": {},
   "outputs": [],
   "source": [
    "n.palette(3)\n",
    "n.rotate_diagram(45)\n",
    "display(SVG(n.tosvg()))"
   ]
  },
  {
   "cell_type": "code",
   "execution_count": null,
   "id": "c7e50ef2",
   "metadata": {},
   "outputs": [],
   "source": [
    "n.get_venn_region([\"Set1\", \"Set3\"])"
   ]
  },
  {
   "cell_type": "code",
   "execution_count": null,
   "id": "aed66fd7",
   "metadata": {},
   "outputs": [],
   "source": [
    "n.get_venn_region([\"Set3\"])"
   ]
  },
  {
   "cell_type": "code",
   "execution_count": null,
   "id": "47d0f7e8",
   "metadata": {},
   "outputs": [],
   "source": [
    "#example = {'Set1': [1, 2, 3], \"Set2\": [2, 3, 4]}\n",
    "#h = nvenn2.borderLine(example)"
   ]
  },
  {
   "cell_type": "code",
   "execution_count": null,
   "id": "d8c40df5",
   "metadata": {},
   "outputs": [],
   "source": []
  },
  {
   "cell_type": "code",
   "execution_count": null,
   "id": "f0994452",
   "metadata": {},
   "outputs": [],
   "source": []
  }
 ],
 "metadata": {
  "kernelspec": {
   "display_name": "Python 3 (ipykernel)",
   "language": "python",
   "name": "python3"
  },
  "language_info": {
   "codemirror_mode": {
    "name": "ipython",
    "version": 3
   },
   "file_extension": ".py",
   "mimetype": "text/x-python",
   "name": "python",
   "nbconvert_exporter": "python",
   "pygments_lexer": "ipython3",
   "version": "3.13.5"
  }
 },
 "nbformat": 4,
 "nbformat_minor": 5
}
