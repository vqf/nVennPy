{
 "cells": [
  {
   "cell_type": "code",
   "execution_count": 1,
   "id": "63602108",
   "metadata": {
    "scrolled": true
   },
   "outputs": [
    {
     "ename": "AttributeError",
     "evalue": "'nvenn2.diagram' object has no attribute 'to_svg'",
     "output_type": "error",
     "traceback": [
      "\u001b[31m---------------------------------------------------------------------------\u001b[39m",
      "\u001b[31mAttributeError\u001b[39m                            Traceback (most recent call last)",
      "\u001b[36mCell\u001b[39m\u001b[36m \u001b[39m\u001b[32mIn[1]\u001b[39m\u001b[32m, line 6\u001b[39m\n\u001b[32m      4\u001b[39m n = nvenn2.diagram(\u001b[33m\"\u001b[39m\u001b[33mSet1 Set2 Set3\u001b[39m\u001b[38;5;130;01m\\n\u001b[39;00m\u001b[33ma a b\u001b[39m\u001b[38;5;130;01m\\n\u001b[39;00m\u001b[33mb q d\u001b[39m\u001b[38;5;130;01m\\n\u001b[39;00m\u001b[33mc  e\u001b[39m\u001b[33m\"\u001b[39m, \u001b[32m0\u001b[39m)\n\u001b[32m      5\u001b[39m n.simulate()\n\u001b[32m----> \u001b[39m\u001b[32m6\u001b[39m display(SVG(n.to_svg()))\n",
      "\u001b[31mAttributeError\u001b[39m: 'nvenn2.diagram' object has no attribute 'to_svg'"
     ]
    }
   ],
   "source": [
    "import nvenn2\n",
    "\n",
    "from IPython.display import SVG, display\n",
    "n = nvenn2.diagram(\"Set1 Set2 Set3\\na a b\\nb q d\\nc  e\", 0)\n",
    "n.simulate()\n",
    "display(SVG(n.to_svg()))"
   ]
  },
  {
   "cell_type": "code",
   "execution_count": null,
   "id": "9012c188",
   "metadata": {},
   "outputs": [],
   "source": [
    "n.palette(3)\n",
    "n.rotate_diagram(45)\n",
    "display(SVG(n.to_svg()))"
   ]
  },
  {
   "cell_type": "code",
   "execution_count": null,
   "id": "c7e50ef2",
   "metadata": {},
   "outputs": [],
   "source": [
    "n.get_venn_region([\"Set1\", \"Set3\"])"
   ]
  },
  {
   "cell_type": "code",
   "execution_count": null,
   "id": "aed66fd7",
   "metadata": {},
   "outputs": [],
   "source": [
    "n.get_venn_region([\"Set3\"])"
   ]
  },
  {
   "cell_type": "code",
   "execution_count": null,
   "id": "47d0f7e8",
   "metadata": {},
   "outputs": [],
   "source": [
    "#example = {'Set1': [1, 2, 3], \"Set2\": [2, 3, 4]}\n",
    "#h = nvenn2.borderLine(example)"
   ]
  },
  {
   "cell_type": "code",
   "execution_count": null,
   "id": "d8c40df5",
   "metadata": {},
   "outputs": [],
   "source": []
  },
  {
   "cell_type": "code",
   "execution_count": null,
   "id": "f0994452",
   "metadata": {},
   "outputs": [],
   "source": []
  }
 ],
 "metadata": {
  "kernelspec": {
   "display_name": "Python [conda env:base] *",
   "language": "python",
   "name": "conda-base-py"
  },
  "language_info": {
   "codemirror_mode": {
    "name": "ipython",
    "version": 3
   },
   "file_extension": ".py",
   "mimetype": "text/x-python",
   "name": "python",
   "nbconvert_exporter": "python",
   "pygments_lexer": "ipython3",
   "version": "3.13.5"
  }
 },
 "nbformat": 4,
 "nbformat_minor": 5
}
