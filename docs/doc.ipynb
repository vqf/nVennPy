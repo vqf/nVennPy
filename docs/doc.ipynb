{
 "cells": [
  {
   "cell_type": "markdown",
   "id": "1e07f620",
   "metadata": {},
   "source": [
    "# Using nVenn2"
   ]
  },
  {
   "cell_type": "code",
   "execution_count": null,
   "id": "56634e9a",
   "metadata": {},
   "outputs": [],
   "source": [
    "%pip install nvenn2"
   ]
  },
  {
   "cell_type": "code",
   "execution_count": null,
   "id": "63602108",
   "metadata": {
    "scrolled": true
   },
   "outputs": [],
   "source": [
    "import nvenn2\n",
    "\n",
    "from IPython.display import SVG, display\n",
    "n = nvenn2.diagram(\"Set1 Set2 Set3\\na a b\\nb q d\\nc  e\", 0)\n",
    "n.simulate()\n",
    "display(SVG(n.to_svg()))"
   ]
  },
  {
   "cell_type": "code",
   "execution_count": null,
   "id": "9012c188",
   "metadata": {},
   "outputs": [],
   "source": [
    "n.palette(3)\n",
    "n.rotate_diagram(45)\n",
    "n.set_opacity(0.2)\n",
    "n.set_line_width(4)\n",
    "display(SVG(n.to_svg()))"
   ]
  },
  {
   "cell_type": "code",
   "execution_count": null,
   "id": "c7e50ef2",
   "metadata": {},
   "outputs": [],
   "source": [
    "n.get_venn_region([\"Set1\", \"Set3\"])"
   ]
  },
  {
   "cell_type": "code",
   "execution_count": null,
   "id": "aed66fd7",
   "metadata": {},
   "outputs": [],
   "source": [
    "n.get_venn_region([\"Set3\"])"
   ]
  },
  {
   "cell_type": "code",
   "execution_count": null,
   "id": "47d0f7e8",
   "metadata": {},
   "outputs": [],
   "source": [
    "#example = {'Set1': [1, 2, 3], \"Set2\": [2, 3, 4]}\n",
    "#h = nvenn2.borderLine(example)"
   ]
  },
  {
   "cell_type": "code",
   "execution_count": null,
   "id": "d8c40df5",
   "metadata": {},
   "outputs": [],
   "source": [
    "from importlib.metadata import version\n",
    "version('nvenn2')"
   ]
  },
  {
   "cell_type": "code",
   "execution_count": null,
   "id": "f0994452",
   "metadata": {},
   "outputs": [],
   "source": []
  },
  {
   "cell_type": "code",
   "execution_count": null,
   "id": "e7130fc8-b277-4c01-aeec-343bba4bcf34",
   "metadata": {},
   "outputs": [],
   "source": []
  }
 ],
 "metadata": {
  "kernelspec": {
   "display_name": "Python 3 (ipykernel)",
   "language": "python",
   "name": "python3"
  },
  "language_info": {
   "codemirror_mode": {
    "name": "ipython",
    "version": 3
   },
   "file_extension": ".py",
   "mimetype": "text/x-python",
   "name": "python",
   "nbconvert_exporter": "python",
   "pygments_lexer": "ipython3",
   "version": "3.13.5"
  }
 },
 "nbformat": 4,
 "nbformat_minor": 5
}
